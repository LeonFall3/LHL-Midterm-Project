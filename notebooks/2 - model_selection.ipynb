{
 "cells": [
  {
   "cell_type": "code",
   "execution_count": 172,
   "metadata": {},
   "outputs": [],
   "source": [
    "from sklearn.pipeline import Pipeline\n",
    "from sklearn.compose import ColumnTransformer\n",
    "from sklearn.preprocessing import StandardScaler, OneHotEncoder\n",
    "from sklearn.model_selection import train_test_split\n",
    "from sklearn.impute import SimpleImputer\n",
    "from sklearn.linear_model import LinearRegression\n",
    "from sklearn.svm import SVR\n",
    "from sklearn.ensemble import RandomForestRegressor\n",
    "from xgboost import XGBRegressor\n",
    "from sklearn.metrics import mean_squared_error, mean_absolute_error, r2_score\n",
    "from sklearn.neighbors import KNeighborsRegressor\n",
    "import numpy as np\n",
    "import pandas as pd\n",
    "import pickle\n",
    "import seaborn as sns\n",
    "import matplotlib.pyplot as plt\n",
    "\n",
    "df = pd.read_pickle('data/!main_df.pkl')"
   ]
  },
  {
   "cell_type": "markdown",
   "metadata": {},
   "source": [
    "## Model Selection\n",
    "\n",
    "This notebook should include preliminary and baseline modeling.\n",
    "- Try as many different models as possible.\n",
    "- Don't worry about hyperparameter tuning or cross validation here.\n",
    "- Ideas include:\n",
    "    - linear regression\n",
    "    - support vector machines\n",
    "    - random forest\n",
    "    - xgboost"
   ]
  },
  {
   "cell_type": "code",
   "execution_count": 173,
   "metadata": {},
   "outputs": [
    {
     "name": "stderr",
     "output_type": "stream",
     "text": [
      "b:\\LHL\\python\\.conda\\Lib\\site-packages\\sklearn\\preprocessing\\_encoders.py:242: UserWarning: Found unknown categories in columns [1] during transform. These unknown categories will be encoded as all zeros\n",
      "  warnings.warn(\n",
      "b:\\LHL\\python\\.conda\\Lib\\site-packages\\sklearn\\preprocessing\\_encoders.py:242: UserWarning: Found unknown categories in columns [1] during transform. These unknown categories will be encoded as all zeros\n",
      "  warnings.warn(\n"
     ]
    },
    {
     "name": "stdout",
     "output_type": "stream",
     "text": [
      "Baseline Model Performance:\n",
      "Linear Regression - MSE: 42735442470.97, RMSE: 206725.52, MAE: 134057.19, R2: 0.58\n",
      "Support Vector Machine - MSE: 102463447186.46, RMSE: 320099.12, MAE: 179204.89, R2: -0.00\n",
      "Random Forest - MSE: 43428464511.84, RMSE: 208394.97, MAE: 111236.94, R2: 0.58\n",
      "XGBoost - MSE: 46832895111.24, RMSE: 216409.09, MAE: 109920.83, R2: 0.54\n"
     ]
    },
    {
     "name": "stderr",
     "output_type": "stream",
     "text": [
      "b:\\LHL\\python\\.conda\\Lib\\site-packages\\sklearn\\preprocessing\\_encoders.py:242: UserWarning: Found unknown categories in columns [1] during transform. These unknown categories will be encoded as all zeros\n",
      "  warnings.warn(\n",
      "b:\\LHL\\python\\.conda\\Lib\\site-packages\\sklearn\\preprocessing\\_encoders.py:242: UserWarning: Found unknown categories in columns [1] during transform. These unknown categories will be encoded as all zeros\n",
      "  warnings.warn(\n"
     ]
    }
   ],
   "source": [
    "X = df.drop(columns=['sold_price'])\n",
    "y = df['sold_price']\n",
    "x_train, x_test, y_train, y_test = train_test_split(X, y, test_size=.3, random_state=42)\n",
    "\n",
    "# Define numerical and categorical columns\n",
    "num_cols = ['beds', 'baths', 'busstops', 'sqft']\n",
    "cat_cols = ['type', 'state']  \n",
    "\n",
    "# Define preprocessing pipeline\n",
    "num_pipeline = Pipeline([(\"imputer\", SimpleImputer(strategy=\"median\")), (\"scaler\", StandardScaler())])\n",
    "cat_pipeline = Pipeline([\n",
    "    (\"imputer\", SimpleImputer(strategy=\"most_frequent\")),\n",
    "    (\"onehot\", OneHotEncoder(drop=\"first\", handle_unknown=\"ignore\"))\n",
    "])\n",
    "\n",
    "# Combine preprocessing steps\n",
    "preprocessor = ColumnTransformer(\n",
    "    transformers=[\n",
    "        (\"num\", num_pipeline, num_cols),\n",
    "        (\"cat\", cat_pipeline, cat_cols)\n",
    "    ]\n",
    ")\n",
    "\n",
    "# Define the models to test\n",
    "models = {\n",
    "    'Linear Regression': LinearRegression(),\n",
    "    'Support Vector Machine': SVR(),\n",
    "    'Random Forest': RandomForestRegressor(),\n",
    "    'XGBoost': XGBRegressor(eval_metric='rmse')\n",
    "}\n",
    "\n",
    "# Prepare a dictionary to store the results\n",
    "results = {}\n",
    "\n",
    "# Loop over each model, create a pipeline, and fit\n",
    "for model_name, model in models.items():\n",
    "    # Create pipeline with preprocessing and the model\n",
    "    pipeline = Pipeline([\n",
    "        (\"preprocessor\", preprocessor),\n",
    "        (\"model\", model)\n",
    "    ])\n",
    "    \n",
    "    # Fit the pipeline\n",
    "    pipeline.fit(x_train, y_train)\n",
    "    \n",
    "    # Predict on the test set\n",
    "    y_pred = pipeline.predict(x_test)\n",
    "    \n",
    "    # Calculate the evaluation metrics\n",
    "    mse = mean_squared_error(y_test, y_pred)\n",
    "    rmse = np.sqrt(mse)\n",
    "    mae = mean_absolute_error(y_test, y_pred)\n",
    "    rtwo = r2_score(y_test, y_pred)\n",
    "    results[model_name] = {\n",
    "        'MSE': mse,\n",
    "        'RMSE': rmse,\n",
    "        'MAE': mae,\n",
    "        'r2': rtwo\n",
    "    }\n",
    "\n",
    "# Display results\n",
    "print(\"Baseline Model Performance:\")\n",
    "for model_name, metrics in results.items():\n",
    "    print(f\"{model_name} - MSE: {metrics['MSE']:.2f}, RMSE: {metrics['RMSE']:.2f}, MAE: {metrics['MAE']:.2f}, R2: {metrics['r2']:.2f}\")\n"
   ]
  },
  {
   "cell_type": "markdown",
   "metadata": {},
   "source": [
    "Consider what metrics you want to use to evaluate success.\n",
    "- If you think about mean squared error, can we actually relate to the amount of error?\n",
    "- Try root mean squared error so that error is closer to the original units (dollars)\n",
    "- What does RMSE do to outliers?\n",
    "- Is mean absolute error a good metric for this problem?\n",
    "- What about R^2? Adjusted R^2?\n",
    "- Briefly describe your reasons for picking the metrics you use"
   ]
  },
  {
   "cell_type": "code",
   "execution_count": 174,
   "metadata": {},
   "outputs": [],
   "source": [
    "# gather evaluation metrics and compare results"
   ]
  },
  {
   "cell_type": "markdown",
   "metadata": {},
   "source": [
    "## Feature Selection - STRETCH\n",
    "\n",
    "> **This step doesn't need to be part of your Minimum Viable Product (MVP), but its recommended you complete it if you have time!**\n",
    "\n",
    "Even with all the preprocessing we did in Notebook 1, you probably still have a lot of features. Are they all important for prediction?\n",
    "\n",
    "Investigate some feature selection algorithms (Lasso, RFE, Forward/Backward Selection)\n",
    "- Perform feature selection to get a reduced subset of your original features\n",
    "- Refit your models with this reduced dimensionality - how does performance change on your chosen metrics?\n",
    "- Based on this, should you include feature selection in your final pipeline? Explain\n",
    "\n",
    "Remember, feature selection often doesn't directly improve performance, but if performance remains the same, a simpler model is often preferrable. \n",
    "\n"
   ]
  },
  {
   "cell_type": "code",
   "execution_count": 175,
   "metadata": {},
   "outputs": [],
   "source": [
    "# perform feature selection \n",
    "# refit models\n",
    "# gather evaluation metrics and compare to the previous step (full feature set)\n",
    "from sklearn.linear_model import Lasso\n",
    "from sklearn.feature_selection import RFE, SelectFromModel\n"
   ]
  },
  {
   "cell_type": "markdown",
   "metadata": {},
   "source": [
    "### Lasso"
   ]
  },
  {
   "cell_type": "code",
   "execution_count": 176,
   "metadata": {},
   "outputs": [
    {
     "name": "stdout",
     "output_type": "stream",
     "text": [
      "Selected features: ['beds' 'baths' 'busstops' 'sqft']\n",
      "Original feature count: 169\n"
     ]
    }
   ],
   "source": [
    "X_train_np = x_train[num_cols].values\n",
    "X_test_np = x_test[num_cols].values\n",
    "\n",
    "lasso = Lasso(alpha=0.01).fit(X_train_np, y_train)\n",
    "model = SelectFromModel(lasso, prefit=True)\n",
    "x_train_lasso = model.transform(X_train_np)\n",
    "x_test_lasso = model.transform(X_test_np)\n",
    "selected_features_mask = model.get_support()\n",
    "selected_features = np.array(num_cols)[selected_features_mask]\n",
    "\n",
    "print(\"Selected features:\", selected_features)\n",
    "print(\"Original feature count:\", x_train.shape[1])"
   ]
  },
  {
   "cell_type": "code",
   "execution_count": 177,
   "metadata": {},
   "outputs": [
    {
     "name": "stdout",
     "output_type": "stream",
     "text": [
      "Performance on Lasso-selected features:\n",
      "Mean Squared Error: 138463002812.44\n",
      "Root Mean Squared Error: 372106.17\n",
      "Mean Absolute Error: 196206.09\n",
      "R2 Score: -0.35\n"
     ]
    }
   ],
   "source": [
    "model = XGBRegressor(eval_metric='rmse')\n",
    "model.fit(x_train_lasso, y_train)\n",
    "y_pred = model.predict(x_test_lasso)\n",
    "mse = mean_squared_error(y_test, y_pred)\n",
    "rmse = np.sqrt(mse)\n",
    "mae = mean_absolute_error(y_test, y_pred)\n",
    "r2 = r2_score(y_test, y_pred)\n",
    "\n",
    "print(\"Performance on Lasso-selected features:\")\n",
    "print(f\"Mean Squared Error: {mse:.2f}\")\n",
    "print(f\"Root Mean Squared Error: {rmse:.2f}\")\n",
    "print(f\"Mean Absolute Error: {mae:.2f}\")\n",
    "print(f\"R2 Score: {r2:.2f}\")"
   ]
  },
  {
   "cell_type": "markdown",
   "metadata": {},
   "source": [
    "# Bus Stops"
   ]
  },
  {
   "cell_type": "markdown",
   "metadata": {},
   "source": [
    "## Question: Does the number of bus stops near a property have an impact on house prices?"
   ]
  },
  {
   "cell_type": "code",
   "execution_count": 178,
   "metadata": {},
   "outputs": [],
   "source": [
    "df = pd.read_pickle('data/!main_df.pkl')"
   ]
  },
  {
   "cell_type": "markdown",
   "metadata": {},
   "source": [
    "### Creating dataframe with target and parameter"
   ]
  },
  {
   "cell_type": "code",
   "execution_count": 179,
   "metadata": {},
   "outputs": [],
   "source": [
    "df = df[['sold_price', 'busstops']]"
   ]
  },
  {
   "cell_type": "code",
   "execution_count": 180,
   "metadata": {},
   "outputs": [],
   "source": [
    "x = df.drop(columns=['sold_price'])\n",
    "y = df[['sold_price']]"
   ]
  },
  {
   "cell_type": "markdown",
   "metadata": {},
   "source": [
    "### Removing outliers"
   ]
  },
  {
   "cell_type": "code",
   "execution_count": 181,
   "metadata": {},
   "outputs": [],
   "source": [
    "Q1 = df['sold_price'].quantile(0.25)\n",
    "Q3 = df['sold_price'].quantile(0.75)\n",
    "IQR = Q3 - Q1\n",
    "\n",
    "low_balls = Q1 - 1.5 * IQR\n",
    "high_balls = Q3 + 1.5 * IQR\n",
    "\n",
    "# Filter out the outliers\n",
    "df = df[(df['sold_price'] >= low_balls) & (df['sold_price'] <= high_balls)]\n"
   ]
  },
  {
   "cell_type": "markdown",
   "metadata": {},
   "source": [
    "### Creating bins and then encoding bus stops"
   ]
  },
  {
   "cell_type": "code",
   "execution_count": 182,
   "metadata": {},
   "outputs": [],
   "source": [
    "bins = [0, 4, 10, 100]\n",
    "labels = ['<5', '5-10', '11-99']\n",
    "\n",
    "x['busstops_binned'] = pd.cut(x['busstops'], bins=bins, labels=labels, include_lowest=True)\n",
    "x = pd.get_dummies(x, columns=['busstops_binned'], drop_first=True)\n",
    "x = x.drop(columns=['busstops'])"
   ]
  },
  {
   "cell_type": "markdown",
   "metadata": {},
   "source": [
    "### Splitting the data"
   ]
  },
  {
   "cell_type": "code",
   "execution_count": 183,
   "metadata": {},
   "outputs": [],
   "source": [
    "x_train, x_test, y_train, y_test = train_test_split(x, y, random_state=42, test_size=0.3)"
   ]
  },
  {
   "cell_type": "markdown",
   "metadata": {},
   "source": [
    "### KNN"
   ]
  },
  {
   "cell_type": "code",
   "execution_count": 184,
   "metadata": {},
   "outputs": [],
   "source": [
    "model = KNeighborsRegressor(n_neighbors=5)\n",
    "model.fit(x_train, y_train)\n",
    "score = model.score(x_test, y_test)"
   ]
  },
  {
   "cell_type": "markdown",
   "metadata": {},
   "source": [
    "### Linear Regression"
   ]
  },
  {
   "cell_type": "code",
   "execution_count": 185,
   "metadata": {},
   "outputs": [
    {
     "data": {
      "text/plain": [
       "0.038700607180807034"
      ]
     },
     "execution_count": 185,
     "metadata": {},
     "output_type": "execute_result"
    }
   ],
   "source": [
    "pipeline = Pipeline([(\"imputer\", SimpleImputer()), (\"scaler\", StandardScaler()), (\"model\", LinearRegression())])\n",
    "\n",
    "pipeline.fit(x_train, y_train)\n",
    "y_pred = pipeline.predict(x_test)\n",
    "pipeline.score(x_test, y_test)"
   ]
  },
  {
   "cell_type": "markdown",
   "metadata": {},
   "source": [
    "### Random Forest"
   ]
  },
  {
   "cell_type": "code",
   "execution_count": 186,
   "metadata": {},
   "outputs": [
    {
     "data": {
      "text/plain": [
       "0.039248993646225916"
      ]
     },
     "execution_count": 186,
     "metadata": {},
     "output_type": "execute_result"
    }
   ],
   "source": [
    "y_train = y_train.values.ravel()\n",
    "pipeline = Pipeline([(\"imputer\", SimpleImputer()), (\"scaler\", StandardScaler()), (\"model\", RandomForestRegressor())])\n",
    "\n",
    "pipeline.fit(x_train, y_train)\n",
    "y_pred = pipeline.predict(x_test)\n",
    "pipeline.score(x_test, y_test)"
   ]
  },
  {
   "cell_type": "markdown",
   "metadata": {},
   "source": [
    "### XGBoost"
   ]
  },
  {
   "cell_type": "code",
   "execution_count": 187,
   "metadata": {},
   "outputs": [
    {
     "data": {
      "text/plain": [
       "0.03870058059692383"
      ]
     },
     "execution_count": 187,
     "metadata": {},
     "output_type": "execute_result"
    }
   ],
   "source": [
    "pipeline = Pipeline([(\"imputer\", SimpleImputer()), (\"scaler\", StandardScaler()), (\"model\", XGBRegressor())])\n",
    "\n",
    "pipeline.fit(x_train, y_train)\n",
    "y_pred = pipeline.predict(x_test)\n",
    "pipeline.score(x_test, y_test)"
   ]
  },
  {
   "cell_type": "code",
   "execution_count": null,
   "metadata": {},
   "outputs": [],
   "source": []
  },
  {
   "cell_type": "markdown",
   "metadata": {},
   "source": [
    "## Results"
   ]
  },
  {
   "cell_type": "markdown",
   "metadata": {},
   "source": [
    "There is no signifiant coorelation between bus stops and house sale price. Running the data on busstops directly and trying binning had no impact of the model scores. Further analysis is futile. "
   ]
  },
  {
   "cell_type": "markdown",
   "metadata": {},
   "source": [
    "# Rooms\n",
    "\n",
    "## Question: Which rooms impact the value of the house? "
   ]
  },
  {
   "cell_type": "code",
   "execution_count": 188,
   "metadata": {},
   "outputs": [],
   "source": [
    "df = pd.read_pickle('data/!main_df.pkl')"
   ]
  },
  {
   "cell_type": "markdown",
   "metadata": {},
   "source": [
    "### Creating the dataframe"
   ]
  },
  {
   "cell_type": "code",
   "execution_count": 189,
   "metadata": {},
   "outputs": [],
   "source": [
    "df = df[[ 'sold_price','sqft', 'beds', 'baths', 'den_or_office', 'dining_room', 'family_room', 'game_room', 'laundry_room', 'media_room', 'theater_room']].copy()"
   ]
  },
  {
   "cell_type": "code",
   "execution_count": 190,
   "metadata": {},
   "outputs": [],
   "source": [
    "Q1 = df['sold_price'].quantile(0.25)\n",
    "Q3 = df['sold_price'].quantile(0.75)\n",
    "IQR = Q3 - Q1\n",
    "\n",
    "low_balls = Q1 - 1.5 * IQR\n",
    "high_balls = Q3 + 1.5 * IQR\n",
    "\n",
    "# Filter out the outliers\n",
    "df = df[(df['sold_price'] >= low_balls) & (df['sold_price'] <= high_balls)]\n"
   ]
  },
  {
   "cell_type": "code",
   "execution_count": 191,
   "metadata": {},
   "outputs": [],
   "source": [
    "df.loc[:, 'total_rooms'] = df[['beds', 'baths', 'dining_room', 'den_or_office', 'family_room', 'game_room', 'laundry_room', 'media_room', 'theater_room']].sum(axis=1)"
   ]
  },
  {
   "cell_type": "code",
   "execution_count": 192,
   "metadata": {},
   "outputs": [],
   "source": [
    "df['extra_rooms'] = df[['den_or_office', 'media_room', 'theater_room', 'game_room', 'laundry_room', 'dining_room', 'family_room']].sum(axis=1)\n",
    "df.drop(columns=['den_or_office', 'media_room', 'theater_room', 'game_room', 'laundry_room','dining_room', 'family_room'], inplace=True)\n"
   ]
  },
  {
   "cell_type": "markdown",
   "metadata": {},
   "source": [
    "### Splitting the data"
   ]
  },
  {
   "cell_type": "code",
   "execution_count": 193,
   "metadata": {},
   "outputs": [],
   "source": [
    "x = df.drop(columns=['sold_price'])\n",
    "y = df['sold_price']\n",
    "x_train, x_test, y_train, y_test = train_test_split(x,y, test_size=.3, random_state=42)"
   ]
  },
  {
   "cell_type": "code",
   "execution_count": 194,
   "metadata": {},
   "outputs": [],
   "source": [
    "with open('data/trained_rooms.pkl', 'wb') as file:\n",
    "    pickle.dump((x_train, x_test, y_train, y_test), file)"
   ]
  },
  {
   "cell_type": "markdown",
   "metadata": {},
   "source": [
    "### KNN"
   ]
  },
  {
   "cell_type": "code",
   "execution_count": 195,
   "metadata": {},
   "outputs": [
    {
     "data": {
      "text/plain": [
       "-0.1294348514321444"
      ]
     },
     "execution_count": 195,
     "metadata": {},
     "output_type": "execute_result"
    }
   ],
   "source": [
    "model = KNeighborsRegressor(n_neighbors=5)\n",
    "model.fit(x_train, y_train)\n",
    "model.score(x_test, y_test)"
   ]
  },
  {
   "cell_type": "markdown",
   "metadata": {},
   "source": [
    "### Linear Regression"
   ]
  },
  {
   "cell_type": "code",
   "execution_count": 196,
   "metadata": {},
   "outputs": [
    {
     "data": {
      "text/plain": [
       "0.16818937427964686"
      ]
     },
     "execution_count": 196,
     "metadata": {},
     "output_type": "execute_result"
    }
   ],
   "source": [
    "pipeline = Pipeline([(\"imputer\", SimpleImputer()), (\"scaler\", StandardScaler()), (\"model\", LinearRegression())])\n",
    "\n",
    "pipeline.fit(x_train, y_train)\n",
    "y_pred = pipeline.predict(x_test)\n",
    "pipeline.score(x_test, y_test)"
   ]
  },
  {
   "cell_type": "markdown",
   "metadata": {},
   "source": [
    "### Random Forest"
   ]
  },
  {
   "cell_type": "code",
   "execution_count": 197,
   "metadata": {},
   "outputs": [
    {
     "data": {
      "text/plain": [
       "-0.09761690671785384"
      ]
     },
     "execution_count": 197,
     "metadata": {},
     "output_type": "execute_result"
    }
   ],
   "source": [
    "pipeline = Pipeline([(\"imputer\", SimpleImputer()), (\"scaler\", StandardScaler()), (\"model\", RandomForestRegressor())])\n",
    "\n",
    "pipeline.fit(x_train, y_train)\n",
    "y_pred = pipeline.predict(x_test)\n",
    "pipeline.score(x_test, y_test)"
   ]
  },
  {
   "cell_type": "markdown",
   "metadata": {},
   "source": [
    "### XGBooster"
   ]
  },
  {
   "cell_type": "code",
   "execution_count": 198,
   "metadata": {},
   "outputs": [
    {
     "data": {
      "text/plain": [
       "-0.23384320735931396"
      ]
     },
     "execution_count": 198,
     "metadata": {},
     "output_type": "execute_result"
    }
   ],
   "source": [
    "pipeline = Pipeline([(\"imputer\", SimpleImputer()), (\"scaler\", StandardScaler()), (\"model\", XGBRegressor())])\n",
    "\n",
    "pipeline.fit(x_train, y_train)\n",
    "y_pred = pipeline.predict(x_test)\n",
    "pipeline.score(x_test, y_test)"
   ]
  },
  {
   "cell_type": "markdown",
   "metadata": {},
   "source": [
    "## Results"
   ]
  },
  {
   "cell_type": "markdown",
   "metadata": {},
   "source": [
    "There isn't a strong corelation between rooms and price. I included square footage to give the model a bit of a boost. This question will go into hyperparameter processing because it's the only one that had a positive score."
   ]
  },
  {
   "cell_type": "markdown",
   "metadata": {},
   "source": [
    "# tags prices"
   ]
  },
  {
   "cell_type": "code",
   "execution_count": 199,
   "metadata": {},
   "outputs": [
    {
     "name": "stderr",
     "output_type": "stream",
     "text": [
      "C:\\Users\\ElenaFall\\AppData\\Local\\Temp\\ipykernel_18992\\498720605.py:6: SettingWithCopyWarning: \n",
      "A value is trying to be set on a copy of a slice from a DataFrame.\n",
      "Try using .loc[row_indexer,col_indexer] = value instead\n",
      "\n",
      "See the caveats in the documentation: https://pandas.pydata.org/pandas-docs/stable/user_guide/indexing.html#returning-a-view-versus-a-copy\n",
      "  property_price_df['tags_count'] = property_tag_count\n"
     ]
    }
   ],
   "source": [
    "# Data Setup\n",
    "df = pd.read_pickle('data/!main_df.pkl')\n",
    "tags_df = df.drop(['sold_price','address','city','coords_lat','coords_lon','state','type','beds','garage','baths','sqft','baths_half','baths_full','permalink'],axis=1)\n",
    "property_tag_count = tags_df.sum(1)\n",
    "property_price_df = df[['sold_price']]\n",
    "property_price_df['tags_count'] = property_tag_count\n",
    "df = property_price_df\n",
    "\n",
    "x= df.drop(columns=['sold_price'])\n",
    "y=df[['sold_price']]\n",
    "\n",
    "# Find Outliers\n",
    "Q1 = df['sold_price'].quantile(0.25)\n",
    "Q3 = df['sold_price'].quantile(0.75)\n",
    "IQR = Q3 - Q1\n",
    "\n",
    "low_balls = Q1 - 1.5 * IQR\n",
    "high_balls = Q3 + 1.5 * IQR\n",
    "\n",
    "# Filter out the outliers\n",
    "df = df[(df['sold_price'] >= low_balls) & (df['sold_price'] <= high_balls)]\n",
    "\n",
    "bins = [0, 4, 10, 100]\n",
    "labels = ['<5', '5-10', '11-99']\n",
    "\n",
    "x['tags_binned'] = pd.cut(x['tags_count'], bins=bins, labels=labels, include_lowest=True)\n",
    "x = pd.get_dummies(x, columns=['tags_binned'], drop_first=True)\n",
    "x = x.drop(columns=['tags_count'])\n",
    "\n",
    "x_train, x_test, y_train, y_test = train_test_split(x, y, random_state=42, test_size=0.3)\n",
    "\n"
   ]
  },
  {
   "cell_type": "code",
   "execution_count": 200,
   "metadata": {},
   "outputs": [
    {
     "data": {
      "text/plain": [
       "0.05384566951565939"
      ]
     },
     "execution_count": 200,
     "metadata": {},
     "output_type": "execute_result"
    }
   ],
   "source": [
    "model = KNeighborsRegressor(n_neighbors=5)\n",
    "model.fit(x_train, y_train)\n",
    "score = model.score(x_test, y_test)\n",
    "score"
   ]
  },
  {
   "cell_type": "code",
   "execution_count": 201,
   "metadata": {},
   "outputs": [
    {
     "data": {
      "text/plain": [
       "0.06251796931321651"
      ]
     },
     "execution_count": 201,
     "metadata": {},
     "output_type": "execute_result"
    }
   ],
   "source": [
    "pipeline = Pipeline([(\"imputer\", SimpleImputer()), (\"scaler\", StandardScaler()), (\"model\", LinearRegression())])\n",
    "\n",
    "pipeline.fit(x_train, y_train)\n",
    "y_pred = pipeline.predict(x_test)\n",
    "pipeline.score(x_test, y_test)"
   ]
  },
  {
   "cell_type": "code",
   "execution_count": 202,
   "metadata": {},
   "outputs": [
    {
     "data": {
      "text/plain": [
       "0.062269294952673526"
      ]
     },
     "execution_count": 202,
     "metadata": {},
     "output_type": "execute_result"
    }
   ],
   "source": [
    "y_train = y_train.values.ravel()\n",
    "pipeline = Pipeline([(\"imputer\", SimpleImputer()), (\"scaler\", StandardScaler()), (\"model\", RandomForestRegressor())])\n",
    "\n",
    "pipeline.fit(x_train, y_train)\n",
    "y_pred = pipeline.predict(x_test)\n",
    "pipeline.score(x_test, y_test)"
   ]
  },
  {
   "cell_type": "code",
   "execution_count": 203,
   "metadata": {},
   "outputs": [
    {
     "data": {
      "image/png": "[encoded data removed]",
      "text/plain": [
       "<Figure size 640x480 with 1 Axes>"
      ]
     },
     "metadata": {},
     "output_type": "display_data"
    }
   ],
   "source": [
    "sns.kdeplot(data=df, x='tags_count', y='sold_price', fill=True, thresh=0, levels=100, cmap='icefire')\n",
    "plt.savefig('images/tags_prices')"
   ]
  }
 ],
 "metadata": {
  "kernelspec": {
   "display_name": "bootcamp",
   "language": "python",
   "name": "python3"
  },
  "language_info": {
   "codemirror_mode": {
    "name": "ipython",
    "version": 3
   },
   "file_extension": ".py",
   "mimetype": "text/x-python",
   "name": "python",
   "nbconvert_exporter": "python",
   "pygments_lexer": "ipython3",
   "version": "3.11.0"
  }
 },
 "nbformat": 4,
 "nbformat_minor": 2
}
